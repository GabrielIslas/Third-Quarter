{
 "cells": [
  {
   "cell_type": "code",
   "execution_count": 1,
   "id": "2d2605dd",
   "metadata": {},
   "outputs": [],
   "source": [
    "# Creating the cardinality measure function\n",
    "def sim_card(x, y):\n",
    "    intersection = x.intersection(y)\n",
    "    return len(intersection)"
   ]
  },
  {
   "cell_type": "code",
   "execution_count": 3,
   "id": "44c16a1e",
   "metadata": {},
   "outputs": [],
   "source": [
    "# Creating the Jaccard coefficient function\n",
    "def sim_jaccard(x, y):\n",
    "    union = x.union(y)\n",
    "    return sim_card(x, y)/len(union)"
   ]
  },
  {
   "cell_type": "code",
   "execution_count": 4,
   "id": "12b33e67",
   "metadata": {},
   "outputs": [
    {
     "name": "stdout",
     "output_type": "stream",
     "text": [
      "The cardinality of jeffrey and jeff is 6  and the jaccard coefficient is 0.6\n",
      "The cardinality of kevin and kev is 3  and the jaccard coefficient is 1.0\n",
      "The cardinality of kevin and kev is 0  and the jaccard coefficient is 0.0\n"
     ]
    }
   ],
   "source": [
    "# Testing the functions\n",
    "jeff = [1, 2, 3, 4, 5, 6]\n",
    "jeffrey = [1, 2, 3, 4, 5, 6, 7, 8, 9, 10]\n",
    "\n",
    "jeff = set(jeff)\n",
    "jeffrey = set(jeffrey)\n",
    "\n",
    "kevin = [11, 12, 13]\n",
    "kev = [11, 12, 13]\n",
    "\n",
    "kevin = set(kevin)\n",
    "kev = set(kev)\n",
    "\n",
    "a = sim_card(jeffrey, jeff) \n",
    "b = sim_jaccard(jeffrey, jeff)\n",
    "\n",
    "c = sim_card(kevin, kev)  \n",
    "d = sim_jaccard(kevin, kev)\n",
    "\n",
    "e = sim_card(kev, jeff)  \n",
    "f = sim_jaccard(kev, jeff) \n",
    "\n",
    "print(\"The cardinality of jeffrey and jeff is\", a, \" and the jaccard coefficient is\", b)\n",
    "print(\"The cardinality of kevin and kev is\", c, \" and the jaccard coefficient is\", d)\n",
    "print(\"The cardinality of kevin and kev is\", e, \" and the jaccard coefficient is\", f)"
   ]
  },
  {
   "cell_type": "code",
   "execution_count": null,
   "id": "3b60729e",
   "metadata": {},
   "outputs": [],
   "source": []
  }
 ],
 "metadata": {
  "kernelspec": {
   "display_name": "Python 3 (ipykernel)",
   "language": "python",
   "name": "python3"
  },
  "language_info": {
   "codemirror_mode": {
    "name": "ipython",
    "version": 3
   },
   "file_extension": ".py",
   "mimetype": "text/x-python",
   "name": "python",
   "nbconvert_exporter": "python",
   "pygments_lexer": "ipython3",
   "version": "3.10.6"
  }
 },
 "nbformat": 4,
 "nbformat_minor": 5
}

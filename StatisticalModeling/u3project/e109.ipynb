{
 "cells": [
  {
   "cell_type": "code",
   "execution_count": 1,
   "metadata": {},
   "outputs": [],
   "source": [
    "# K is the combined carrying capacity of both species\n",
    "# The carrying capacity of an environment is the maximum population size of a biological species that can\n",
    "# be sustained in that environment\n",
    "\n",
    "# P is supposed to be one species and Q is a different one\n",
    "# P and Q are their populations\n",
    "# s and v are constants that represent the negative effect? that they have on each other. Both can be different\n",
    "# r and u are positive constants that represent the rate of growth of each species\n",
    "\n",
    "def competition_model_p(r, P, Q, K, s):\n",
    "    return r * P * (1 - (P + Q) / K) - s * P * Q\n",
    "\n",
    "def competition_model_q(u, P, Q, K, v):\n",
    "    return u * Q * (1 - (P + Q) / K) - v * P * Q"
   ]
  },
  {
   "cell_type": "code",
   "execution_count": null,
   "metadata": {},
   "outputs": [],
   "source": []
  }
 ],
 "metadata": {
  "kernelspec": {
   "display_name": "Python 3.10.6 64-bit",
   "language": "python",
   "name": "python3"
  },
  "language_info": {
   "codemirror_mode": {
    "name": "ipython",
    "version": 3
   },
   "file_extension": ".py",
   "mimetype": "text/x-python",
   "name": "python",
   "nbconvert_exporter": "python",
   "pygments_lexer": "ipython3",
   "version": "3.10.6"
  },
  "orig_nbformat": 4,
  "vscode": {
   "interpreter": {
    "hash": "b1be5a1e9e85905d3e4e97ef1b769f5caa870a8a58c9f9e0ae488b6f0a0e1baf"
   }
  }
 },
 "nbformat": 4,
 "nbformat_minor": 2
}

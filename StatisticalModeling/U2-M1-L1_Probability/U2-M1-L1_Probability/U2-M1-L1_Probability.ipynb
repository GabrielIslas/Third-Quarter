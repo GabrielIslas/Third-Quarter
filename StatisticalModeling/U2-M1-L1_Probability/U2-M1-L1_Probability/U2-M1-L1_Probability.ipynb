{
 "cells": [
  {
   "cell_type": "markdown",
   "metadata": {},
   "source": [
    "Before you turn this problem in, make sure everything runs as expected. First, **restart the kernel** (in the menubar, select Kernel$\\rightarrow$Restart) and then **run all cells** (in the menubar, select Cell$\\rightarrow$Run All).\n",
    "\n",
    "**IMPORTANT: DO NOT COPY OR SPLIT CELLS.** If you do, you'll mess the autograder. If need more cells to work or test things out, create a new cell. You may add as many new cells as you need.\n",
    "\n",
    "Make sure you fill in any place that says `YOUR CODE HERE` or \"YOUR ANSWER HERE\", as well as your name and group below:"
   ]
  },
  {
   "cell_type": "code",
   "execution_count": 1,
   "metadata": {},
   "outputs": [],
   "source": [
    "COURSE = \"StatModels_2020_q3\"\n",
    "GROUP = \"\" # Either D2A or D2B\n",
    "NAME = \"\" # Match your GitHub Classroom ID"
   ]
  },
  {
   "cell_type": "markdown",
   "metadata": {},
   "source": [
    "---"
   ]
  },
  {
   "cell_type": "markdown",
   "metadata": {},
   "source": [
    "#### Gonzalo G. Peraza Mues, 2020"
   ]
  },
  {
   "cell_type": "code",
   "execution_count": 2,
   "metadata": {},
   "outputs": [],
   "source": [
    "import numpy as np\n",
    "import matplotlib.pyplot as plt\n",
    "import pandas as pd"
   ]
  },
  {
   "cell_type": "markdown",
   "metadata": {},
   "source": [
    "# Probability"
   ]
  },
  {
   "cell_type": "markdown",
   "metadata": {},
   "source": [
    "What is probability? There exist two current interpretations of probability: the frequentist interpretation and the bayesian interpretation. You are likely to be more familiar with the frequentist interpretation. Given a $n$ trial of an experiment, with $m$ different outcomes, the probability of outcome $i$ is\n",
    "$$\n",
    "P(i) \\lim_{n\\to\\infty} \\frac{n_i}{n},\n",
    "$$\n",
    "where $n_i$ is the number of occurrences of outcome $i$, subject to $\\sum_i^m n_i = n$.\n",
    "\n",
    "The problem is we often associate probabilities to events for which the frequentist interpretation makes little sense, as, for example, the probability of raining tomorrow. There is only a single occurrence for this event, either it rains, or it doesn't. In such cases, the bayesian interpretation makes more sense. In this interpretation, a probability is a quantified *degree of belief* of how likely is an event to occur. This belief must be based, either implicitly or explicitly, on certain assumptions (also called the *priori*) or evidence. In the rain example, the evidence is our past experience regarding rain around the same time of the year."
   ]
  },
  {
   "cell_type": "markdown",
   "metadata": {},
   "source": [
    "The frequentist interpretation is the [original one](https://en.wikipedia.org/wiki/Classical_definition_of_probability), in words of Laplace himself (1984):\n",
    "\n",
    ">*Probability theory is nothing but common sense reduced to calculation. ... [Probability] is thus simply a fraction whose numerator is the number of favorable cases and whose denominator is the number of all the cases possible ... when nothing leads us to expect that any one of these cases should occur more than any other.*\n",
    "\n",
    "<center><img src=https://upload.wikimedia.org/wikipedia/commons/thumb/3/30/AduC_197_Laplace_%28P.S.%2C_marquis_de%2C_1749-1827%29.JPG/180px-AduC_197_Laplace_%28P.S.%2C_marquis_de%2C_1749-1827%29.JPG></center>\n",
    "<center><a href=\"https://en.wikipedia.org/wiki/Pierre-Simon_Laplace\">Pierre-Simon Laplace</a><br>1814</center>\n"
   ]
  },
  {
   "cell_type": "markdown",
   "metadata": {},
   "source": [
    "Let's remember some definitions from your Probability and Statistics course:\n",
    "\n",
    "- **[Trial or experiment](https://en.wikipedia.org/wiki/Experiment_(probability_theory%29):**\n",
    "  A single occurrence with an outcome that is uncertain until we observe it. \n",
    "  <br>*For example, rolling a single die.*\n",
    "- **[Outcome](https://en.wikipedia.org/wiki/Outcome_(probability%29):**\n",
    "  A possible result of a trial; one particular state of the world. What Laplace calls a **case.**\n",
    "  <br>*For example:* `4`.\n",
    "- **[Sample Space](https://en.wikipedia.org/wiki/Sample_space):**\n",
    "  The set of all possible outcomes for the trial, typically denoted $\\Omega$. \n",
    "  <br>*For example,* `{1, 2, 3, 4, 5, 6}`.\n",
    "- **[Event](https://en.wikipedia.org/wiki/Event_(probability_theory%29):**\n",
    "  A subset of outcomes that together have some property we are interested in.\n",
    "  <br>*For example, the event \"even die roll\" is the set of outcomes* `{2, 4, 6}`. \n",
    "- **[Probability](https://en.wikipedia.org/wiki/Probability_theory):**\n",
    "  As Laplace said, the probability of an event with respect to a sample space is the \"number of favorable cases\" (outcomes from the sample space that are in the event) divided by the \"number of all the cases\" in the sample space (assuming \"nothing leads us to expect that any one of these cases should occur more than any other\"). Since this is a proper fraction, probability will always be a number between 0 (representing an impossible event) and 1 (representing a certain event).\n",
    "<br>*For example, the probability of an even die roll is 3/6 = 1/2.*"
   ]
  },
  {
   "cell_type": "markdown",
   "metadata": {},
   "source": [
    "The basic rules for dealing with probabilities are:\n",
    "1. $0\\leq P(A) \\leq 1$\n",
    "2. $P(\\Omega) = 1$\n",
    "3. $P(\\varnothing) = 0$\n",
    "4. $P(A) + P(\\bar{A}) = 1$\n",
    "5. $P(A\\cup B) = P(A) + P(B) - P(A\\cap B)$\n",
    "\n",
    "As an exercise, try proving that\n",
    "- $P(A\\cap B) \\leq P(A)$\n",
    "- $P(A\\cup B) = P(A) + P(B)$ for disjoint sets\n",
    "- If $A_0, A_1, \\ldots, A_m$ are mutually exclusive and joint exhaustive (they define a partition of $\\Omega$), then $P(A_0) = 1- \\sum_{i=1}^m P(A_i)$\n",
    "- Prove rule 2 using 4 and 5, or 2 and 5 to prove 4. This means rules above are not independent."
   ]
  },
  {
   "cell_type": "markdown",
   "metadata": {},
   "source": [
    "The *de facto* example of a probabilistic event, that can be approach through the frequentist interpretation, is the toss of a coin. Let's simulate a coin toss in Python using random numbers. The function `numpy.random.random` returns a random float in the interval $[0,1)$. We will discuss how does it does this later on. For now, just accept that it samples uniformly in such interval, meaning any float has equal probability of appearing."
   ]
  },
  {
   "cell_type": "code",
   "execution_count": 5,
   "metadata": {},
   "outputs": [
    {
     "data": {
      "text/plain": [
       "0.5076584822841247"
      ]
     },
     "execution_count": 5,
     "metadata": {},
     "output_type": "execute_result"
    }
   ],
   "source": [
    "# Test the rand function, repeatingly excecunting the cell should yield a different random value.\n",
    "np.random.rand()"
   ]
  },
  {
   "cell_type": "code",
   "execution_count": 8,
   "metadata": {},
   "outputs": [],
   "source": [
    "def toss_coin():\n",
    "    r = np.random.rand()\n",
    "    if r < 0.5:\n",
    "        return 'H'\n",
    "    else:\n",
    "        return 'T'"
   ]
  },
  {
   "cell_type": "code",
   "execution_count": 13,
   "metadata": {},
   "outputs": [
    {
     "data": {
      "text/plain": [
       "'H'"
      ]
     },
     "execution_count": 13,
     "metadata": {},
     "output_type": "execute_result"
    }
   ],
   "source": [
    "# Toss a coin!\n",
    "toss_coin()"
   ]
  },
  {
   "cell_type": "markdown",
   "metadata": {},
   "source": [
    "But we cannot obtain probabilities from a single toss coin, so let's modify the function to obtain a sequence of trials."
   ]
  },
  {
   "cell_type": "code",
   "execution_count": 15,
   "metadata": {},
   "outputs": [],
   "source": [
    "def toss_coin(n_trials):\n",
    "    r = np.random.rand(n_trials)\n",
    "    trials = np.zeros(r.shape,  dtype='unicode_')\n",
    "    trials[r < 0.5] = 'H'\n",
    "    trials[r >= 0.5] = 'T'\n",
    "    return trials"
   ]
  },
  {
   "cell_type": "code",
   "execution_count": 17,
   "metadata": {},
   "outputs": [
    {
     "name": "stdout",
     "output_type": "stream",
     "text": [
      "['H' 'H' 'T' 'H' 'H' 'T' 'T' 'H' 'H' 'T']\n"
     ]
    }
   ],
   "source": [
    "n = 10\n",
    "tosses = toss_coin(n)\n",
    "print(tosses)"
   ]
  },
  {
   "cell_type": "markdown",
   "metadata": {},
   "source": [
    "Now, the **empirical probability** for heads is"
   ]
  },
  {
   "cell_type": "code",
   "execution_count": 18,
   "metadata": {},
   "outputs": [
    {
     "data": {
      "text/plain": [
       "0.6"
      ]
     },
     "execution_count": 18,
     "metadata": {},
     "output_type": "execute_result"
    }
   ],
   "source": [
    "(tosses == 'H').sum() / tosses.size"
   ]
  },
  {
   "cell_type": "markdown",
   "metadata": {},
   "source": [
    "Which is not 0.5. We'll come back to that in a bit, but before let's discuss theoretical probabilities a bit further. "
   ]
  },
  {
   "cell_type": "markdown",
   "metadata": {},
   "source": [
    "For a fair coin, the probability of landing heads (`H`) or tails (`T`) is 0.5. Thats the value used in the function. The probability 1/2 is the **theoretical** probability, that we need to distinguish from the actual **empirical** probability that can be calculated from a set of coin tosses. To find theoretical probabilities, we can use [sets](https://docs.python.org/3/library/stdtypes.html#set-types-set-frozenset) to specify the set of possible outcomes and the set of favorable outcomes of an experiment. The code below implements Laplace's quote directly: Probability is thus simply a fraction whose numerator is the number of favorable cases and whose denominator is the number of all the cases possible."
   ]
  },
  {
   "cell_type": "code",
   "execution_count": 19,
   "metadata": {},
   "outputs": [],
   "source": [
    "from fractions import Fraction\n",
    "\n",
    "def P(event, space): \n",
    "    \"The probability of an event, given a sample space.\"\n",
    "    return Fraction(cases(favorable(event, space)), \n",
    "                    cases(space))\n",
    "\n",
    "favorable = set.intersection # Outcomes that are in the event and in the sample space\n",
    "cases     = len              # The number of cases is the length, or size, of a set"
   ]
  },
  {
   "cell_type": "markdown",
   "metadata": {},
   "source": [
    "What's the probability of rolling an even number with a single six-sided fair die? Mathematicians traditionally use a single capital letter to denote a sample space; I'll use D for the die:"
   ]
  },
  {
   "cell_type": "code",
   "execution_count": 22,
   "metadata": {},
   "outputs": [
    {
     "data": {
      "text/plain": [
       "Fraction(1, 2)"
      ]
     },
     "execution_count": 22,
     "metadata": {},
     "output_type": "execute_result"
    }
   ],
   "source": [
    "D     = {1, 2, 3, 4, 5, 6} # a sample space\n",
    "even  = {   2,    4,    6} # an event\n",
    "\n",
    "P(even, D)"
   ]
  },
  {
   "cell_type": "markdown",
   "metadata": {},
   "source": [
    "Good to confirm what we already knew. We can explore some other events:"
   ]
  },
  {
   "cell_type": "code",
   "execution_count": 23,
   "metadata": {},
   "outputs": [],
   "source": [
    "prime = {2, 3, 5, 7, 11, 13}\n",
    "odd   = {1, 3, 5, 7, 9, 11, 13}"
   ]
  },
  {
   "cell_type": "code",
   "execution_count": 24,
   "metadata": {},
   "outputs": [
    {
     "data": {
      "text/plain": [
       "Fraction(1, 2)"
      ]
     },
     "execution_count": 24,
     "metadata": {},
     "output_type": "execute_result"
    }
   ],
   "source": [
    "P(odd, D)"
   ]
  },
  {
   "cell_type": "code",
   "execution_count": 25,
   "metadata": {},
   "outputs": [
    {
     "data": {
      "text/plain": [
       "Fraction(5, 6)"
      ]
     },
     "execution_count": 25,
     "metadata": {},
     "output_type": "execute_result"
    }
   ],
   "source": [
    "P((even | prime), D) # The probability of an even or prime die roll"
   ]
  },
  {
   "cell_type": "markdown",
   "metadata": {},
   "source": [
    "What about a deck of cards? Consider dealing a hand of five playing cards. An individual card has a rank and  suit, like `'J♥'` for the Jack of Hearts, and a `deck` has 52 cards:"
   ]
  },
  {
   "cell_type": "code",
   "execution_count": 26,
   "metadata": {},
   "outputs": [
    {
     "data": {
      "text/plain": [
       "52"
      ]
     },
     "execution_count": 26,
     "metadata": {},
     "output_type": "execute_result"
    }
   ],
   "source": [
    "suits = u'♥♠♦♣'\n",
    "ranks = u'KQJT98765432A'\n",
    "deck  = [r + s for r in ranks for s in suits]\n",
    "len(deck)"
   ]
  },
  {
   "cell_type": "code",
   "execution_count": null,
   "metadata": {},
   "outputs": [],
   "source": [
    "print(deck)"
   ]
  },
  {
   "cell_type": "markdown",
   "metadata": {},
   "source": [
    "Now I want to define `Hands` as the sample space of all 5-card combinations from `deck`. The function `itertools.combinations` does most of the work; we than concatenate each combination into a space-separated string:"
   ]
  },
  {
   "cell_type": "code",
   "execution_count": 27,
   "metadata": {},
   "outputs": [
    {
     "data": {
      "text/plain": [
       "2598960"
      ]
     },
     "execution_count": 27,
     "metadata": {},
     "output_type": "execute_result"
    }
   ],
   "source": [
    "import itertools\n",
    "\n",
    "def combos(items, n):\n",
    "    \"All combinations of n items; each combo as a space-separated str.\"\n",
    "    return set(map(' '.join, itertools.combinations(items, n)))\n",
    "\n",
    "Hands = combos(deck, 5)\n",
    "len(Hands)"
   ]
  },
  {
   "cell_type": "markdown",
   "metadata": {},
   "source": [
    "There are too many hands to look at them all, but we can sample:"
   ]
  },
  {
   "cell_type": "code",
   "execution_count": 28,
   "metadata": {},
   "outputs": [
    {
     "name": "stderr",
     "output_type": "stream",
     "text": [
      "C:\\Users\\gabri\\AppData\\Local\\Temp\\ipykernel_9108\\1855166777.py:2: DeprecationWarning: Sampling from a set deprecated\n",
      "since Python 3.9 and will be removed in a subsequent version.\n",
      "  random.sample(Hands, 7)\n"
     ]
    },
    {
     "data": {
      "text/plain": [
       "['K♥ J♦ T♦ 7♦ 5♠',\n",
       " 'K♣ J♦ 5♥ 3♥ 2♦',\n",
       " 'K♥ K♠ 8♣ 7♠ 5♦',\n",
       " 'T♥ T♣ 5♠ 5♣ 4♠',\n",
       " 'Q♦ Q♣ J♦ 8♠ A♠',\n",
       " 'T♥ T♣ 5♠ 4♦ 2♠',\n",
       " 'K♥ T♥ 6♠ 6♣ 4♣']"
      ]
     },
     "execution_count": 28,
     "metadata": {},
     "output_type": "execute_result"
    }
   ],
   "source": [
    "import random\n",
    "random.sample(Hands, 7)"
   ]
  },
  {
   "cell_type": "markdown",
   "metadata": {},
   "source": [
    "Now we can answer questions like the probability of being dealt a flush (5 cards of the same suit):"
   ]
  },
  {
   "cell_type": "code",
   "execution_count": 29,
   "metadata": {},
   "outputs": [
    {
     "data": {
      "text/plain": [
       "Fraction(33, 16660)"
      ]
     },
     "execution_count": 29,
     "metadata": {},
     "output_type": "execute_result"
    }
   ],
   "source": [
    "flush = {hand for hand in Hands if any(hand.count(suit) == 5 for suit in suits)}\n",
    "\n",
    "P(flush, Hands)"
   ]
  },
  {
   "cell_type": "markdown",
   "metadata": {},
   "source": [
    "Or the probability of four of a kind:"
   ]
  },
  {
   "cell_type": "code",
   "execution_count": 30,
   "metadata": {},
   "outputs": [
    {
     "data": {
      "text/plain": [
       "Fraction(1, 4165)"
      ]
     },
     "execution_count": 30,
     "metadata": {},
     "output_type": "execute_result"
    }
   ],
   "source": [
    "four_kind = {hand for hand in Hands if any(hand.count(rank) == 4 for rank in ranks)}\n",
    "\n",
    "P(four_kind, Hands)"
   ]
  },
  {
   "cell_type": "code",
   "execution_count": 55,
   "metadata": {},
   "outputs": [],
   "source": [
    "def isHandSequence(hand):\n",
    "    indexList = []\n",
    "    cards = hand.split(\" \")\n",
    "    for card in cards:\n",
    "        indexList.append(ranks.index(card[0]))\n",
    "    indexList.sort()\n",
    "    for i in range(1, len(indexList)):\n",
    "        if indexList[i] - indexList[i-1] != 1:\n",
    "            return False\n",
    "    return True\n",
    "rankTuples = list(itertools.combinations(ranks, 2))"
   ]
  },
  {
   "cell_type": "markdown",
   "metadata": {},
   "source": [
    "## Exercise: Poker\n",
    "\n",
    "One application of counting includes computing probabilities of\n",
    "poker hands. A poker hand consists of 5 cards drawn from the deck.\n",
    "The order in which we receive these 5 cards is irrelevant. The number\n",
    "of possible hands is thus\n",
    "$$\n",
    "{52 \\choose 5} = 2598960\n",
    "$$\n",
    "Which is just what we found before.\n",
    "\n",
    "We have just found the probability of a flush and of a four of a kind. Let's compute the probability of all possible hands in order of increasing probability (the less likely first). The possible hands are:\n",
    "1. Royal Flush: A, K, Q, J, 10 all in the same suit. (`royal_flush`)\n",
    "2. Straight Flush: Five cards in a sequence, all in the same suit. (`straight_flush`)\n",
    "3. Four of a Kind: Exactly what it sounds like. (`four_kind`)\n",
    "4. Full House: 3 of a kind with a pair. (`full_house`)\n",
    "5. Flush: Any 5 cards of the same suit, but not in sequence. (`flush`)\n",
    "6. Straight: Any 5 cards in sequence, but not all in the same suit. (`straight`)\n",
    "7. Three of a Kind: Exactly what it sounds like. (`three_kind`)\n",
    "8. Two Pair: Two pairs of cards. (`two_pair`)\n",
    "9. One Pair: One pair of cards. (`one_pair`)\n",
    "10. High Card: Anything else. (`high_card`)\n",
    "\n",
    "Store all **sets** into the variables in parenthesis. You can check your answers in the wikipedia page [Poker probability](https://en.wikipedia.org/wiki/Poker_probability)."
   ]
  },
  {
   "cell_type": "code",
   "execution_count": 58,
   "metadata": {
    "deletable": false,
    "nbgrader": {
     "cell_type": "code",
     "checksum": "6bcc52c4352bb90f0b1b58e22f36a538",
     "grade": false,
     "grade_id": "cell-09acde9aabcb551a",
     "locked": false,
     "schema_version": 3,
     "solution": true,
     "task": false
    }
   },
   "outputs": [],
   "source": [
    "# Royal Flush\n",
    "royal_flush = {hand for hand in Hands if ((hand.count(\"K\") == 1 and hand.count(\"Q\") == 1 and hand.count(\"J\") == 1 and hand.count(\"T\") == 1 and hand.count(\"A\") == 1) and any(hand.count(suit) == 5 for suit in suits))}"
   ]
  },
  {
   "cell_type": "code",
   "execution_count": 59,
   "metadata": {},
   "outputs": [],
   "source": [
    "# Straight Flush\n",
    "straight_flush = {hand for hand in Hands if (isHandSequence(hand) and any(hand.count(suit) == 5 for suit in suits))}"
   ]
  },
  {
   "cell_type": "code",
   "execution_count": 60,
   "metadata": {},
   "outputs": [],
   "source": [
    "# Four kind\n",
    "four_kind = {hand for hand in Hands if any(hand.count(rank) == 4 for rank in ranks)}"
   ]
  },
  {
   "cell_type": "code",
   "execution_count": 61,
   "metadata": {},
   "outputs": [],
   "source": [
    "# Full house\n",
    "full_house = {hand for hand in Hands if any((hand.count(rankTuple[0]) == 3 and hand.count(rankTuple[1]) == 2) or (hand.count(rankTuple[1]) == 3 and hand.count(rankTuple[0]) == 2) for rankTuple in rankTuples)}"
   ]
  },
  {
   "cell_type": "code",
   "execution_count": 62,
   "metadata": {},
   "outputs": [],
   "source": [
    "# Flush\n",
    "# -40 because of straight_flush and royal flush\n",
    "flush = {hand for hand in Hands if any(hand.count(suit) == 5 for suit in suits)}\n"
   ]
  },
  {
   "cell_type": "code",
   "execution_count": 64,
   "metadata": {},
   "outputs": [],
   "source": [
    "# Straight\n",
    "straight = {hand for hand in Hands if (isHandSequence(hand))}"
   ]
  },
  {
   "cell_type": "code",
   "execution_count": 65,
   "metadata": {
    "deletable": false,
    "editable": false,
    "nbgrader": {
     "cell_type": "code",
     "checksum": "966aee54896e6163383b49ca2888a4d2",
     "grade": true,
     "grade_id": "cell-d422f5522a512b4a",
     "locked": true,
     "points": 4,
     "schema_version": 3,
     "solution": false,
     "task": false
    }
   },
   "outputs": [
    {
     "name": "stdout",
     "output_type": "stream",
     "text": [
      "Royal flush:    size=4,       p=1/649740    = 1.5390771693292702e-06\n",
      "Straight flush: size=36,      p=3/216580    = 1.3851694523963431e-05\n",
      "Four kind:      size=624,     p=1/4165    = 0.00024009603841536616\n",
      "Full house:     size=3744,    p=6/4165      = 0.0014405762304921968\n",
      "Flush:          size=5148,    p=33/16660 = 0.0019807923169267707\n",
      "Straight:       size=9216,   p=192/54145      = 0.0035460337981346383\n"
     ]
    }
   ],
   "source": [
    "print(f'Royal flush:    size={len(royal_flush)},       p={P(royal_flush, Hands)}    = {float(P(royal_flush, Hands))}')\n",
    "print(f'Straight flush: size={len(straight_flush)},      p={P(straight_flush, Hands)}    = {float(P(straight_flush, Hands))}')\n",
    "print(f'Four kind:      size={len(four_kind)},     p={P(four_kind, Hands)}    = {float(P(four_kind, Hands))}')\n",
    "print(f'Full house:     size={len(full_house)},    p={P(full_house, Hands)}      = {float(P(full_house, Hands))}')\n",
    "print(f'Flush:          size={len(flush)},    p={P(flush, Hands)} = {float(P(flush, Hands))}')\n",
    "print(f'Straight:       size={len(straight)},   p={P(straight, Hands)}      = {float(P(straight, Hands))}')\n",
    "#print(f'Three kind:     size={len(three_kind)},   p={P(three_kind, Hands)}     = {float(P(three_kind, Hands))}')\n",
    "#print(f'Two pair:       size={len(two_pair)},  p={P(two_pair, Hands)}    = {float(P(two_pair, Hands))}')\n",
    "#print(f'One pair:       size={len(one_pair)}, p={P(one_pair, Hands)}     = {float(P(one_pair, Hands))}')\n",
    "#print(f'High card:      size={len(high_card)}, p={P(high_card, Hands)}   = {float(P(high_card, Hands))}')"
   ]
  },
  {
   "cell_type": "markdown",
   "metadata": {},
   "source": [
    "# Non-Equiprobable Outcomes\n",
    "\n",
    "So far, we have accepted Laplace's assumption that *nothing leads us to expect that any one of these cases should occur more than any other*.\n",
    "In real life, we often get outcomes that are not equiprobable--for example, a loaded die favors one side over the others.  We will introduce three more vocabulary items:\n",
    "\n",
    "* [Frequency](https://en.wikipedia.org/wiki/Frequency_%28statistics%29): a non-negative number describing how often an outcome occurs. Can be a count like 5, or a ratio like 1/6.\n",
    "\n",
    "* [Distribution](http://mathworld.wolfram.com/StatisticalDistribution.html): A mapping from outcome to frequency of that outcome. We will allow sample spaces to be distributions. \n",
    "\n",
    "* [Probability Distribution](https://en.wikipedia.org/wiki/Probability_distribution): A probability distribution\n",
    "is a distribution whose frequencies sum to 1. Also called the Probability Mass Function (PMF)."
   ]
  },
  {
   "cell_type": "markdown",
   "metadata": {},
   "source": [
    "Let's recover our coin toss example, but modify our equation further to allow the possibility of an unfair coin."
   ]
  },
  {
   "cell_type": "code",
   "execution_count": null,
   "metadata": {},
   "outputs": [],
   "source": [
    "def toss_coin(n_trials, p=0.5):\n",
    "    r = np.random.rand(n_trials)\n",
    "    trials = np.zeros(r.shape,  dtype='unicode_')\n",
    "    trials[r < p] = 'H'\n",
    "    trials[r >= p] = 'T'\n",
    "    return trials"
   ]
  },
  {
   "cell_type": "code",
   "execution_count": null,
   "metadata": {},
   "outputs": [],
   "source": [
    "n = 100\n",
    "tosses = toss_coin(n, 0.4)\n",
    "print(tosses)"
   ]
  },
  {
   "cell_type": "markdown",
   "metadata": {},
   "source": [
    "How can we obtain the distribution of $\\left\\{ H,T \\right\\}$? One possibility is to use `numpy.unique`, other to use the Counter class."
   ]
  },
  {
   "cell_type": "code",
   "execution_count": null,
   "metadata": {},
   "outputs": [],
   "source": [
    "np.unique(tosses, return_counts=True)"
   ]
  },
  {
   "cell_type": "code",
   "execution_count": null,
   "metadata": {},
   "outputs": [],
   "source": [
    "from collections import Counter\n",
    "\n",
    "Counter(tosses)"
   ]
  },
  {
   "cell_type": "markdown",
   "metadata": {},
   "source": [
    "Which has the advantage that we can specify a PMF directly."
   ]
  },
  {
   "cell_type": "code",
   "execution_count": null,
   "metadata": {},
   "outputs": [],
   "source": [
    "Counter({'H':0.4, 'T':0.6})"
   ]
  },
  {
   "cell_type": "markdown",
   "metadata": {},
   "source": [
    "Using counter, we can redefine our previous utility functions."
   ]
  },
  {
   "cell_type": "code",
   "execution_count": null,
   "metadata": {},
   "outputs": [],
   "source": [
    "def cases(outcomes): \n",
    "    \"The total frequency of all the outcomes.\"\n",
    "    return sum(Counter(outcomes).values())\n",
    "\n",
    "def favorable(event, space):\n",
    "    \"A distribution of outcomes from the sample space that are in the event.\"\n",
    "    space = Counter(space)\n",
    "    return Counter({x: space[x] \n",
    "                    for x in space if x in event})\n",
    "\n",
    "def Fraction(n, d): return n / d"
   ]
  },
  {
   "cell_type": "markdown",
   "metadata": {},
   "source": [
    "For example, here's the probability of rolling an even number with a crooked die that is loaded to prefer 6:"
   ]
  },
  {
   "cell_type": "code",
   "execution_count": null,
   "metadata": {},
   "outputs": [],
   "source": [
    "Crooked = Counter({1: 0.1, 2: 0.1, 3: 0.1, 4: 0.1, 5: 0.1, 6: 0.5})\n",
    "\n",
    "P(even, Crooked)"
   ]
  },
  {
   "cell_type": "markdown",
   "metadata": {},
   "source": [
    "As another example, an [article](http://people.kzoo.edu/barth/math105/moreboys.pdf) gives the following counts for two-child families in Denmark, where `GB` means a family where the first child is a girl and the second a boy (I'm aware that not all births can be classified as the binary \"boy\" or \"girl,\" but the data was reported that way):\n",
    "\n",
    "    GG: 121801    GB: 126840\n",
    "    BG: 127123    BB: 135138"
   ]
  },
  {
   "cell_type": "code",
   "execution_count": null,
   "metadata": {},
   "outputs": [],
   "source": [
    "DK = Counter(GG=121801, GB=126840,\n",
    "             BG=127123, BB=135138)\n",
    "DK"
   ]
  },
  {
   "cell_type": "code",
   "execution_count": null,
   "metadata": {},
   "outputs": [],
   "source": [
    "first_girl  = {'GG', 'GB'}\n",
    "P(first_girl, DK)"
   ]
  },
  {
   "cell_type": "code",
   "execution_count": null,
   "metadata": {},
   "outputs": [],
   "source": [
    "second_girl = {'GG', 'BG'}\n",
    "P(second_girl, DK)"
   ]
  },
  {
   "cell_type": "markdown",
   "metadata": {},
   "source": [
    "This says that the probability of a girl is somewhere between 48% and 49%. The probability of a girl is very slightly higher for the second child. \n",
    "\n",
    "Given the first child, are you more likely to have a second child of the same sex?"
   ]
  },
  {
   "cell_type": "code",
   "execution_count": null,
   "metadata": {},
   "outputs": [],
   "source": [
    "same = {'GG', 'BB'}\n",
    "P(same, DK)"
   ]
  },
  {
   "cell_type": "markdown",
   "metadata": {},
   "source": [
    "Yes, but only by about 0.3%."
   ]
  },
  {
   "cell_type": "markdown",
   "metadata": {},
   "source": [
    "What about empirical PMF? For example, for our coin tosses. We can write a function to estimate such probabilities."
   ]
  },
  {
   "cell_type": "code",
   "execution_count": null,
   "metadata": {},
   "outputs": [],
   "source": [
    "def PMF(trials):\n",
    "    outcomes, freq = np.unique(trials, return_counts=True)\n",
    "    prob = freq / len(trials)\n",
    "    return dict(zip(outcomes, prob))"
   ]
  },
  {
   "cell_type": "code",
   "execution_count": null,
   "metadata": {},
   "outputs": [],
   "source": [
    "coin_pmf = PMF(tosses)\n",
    "coin_pmf"
   ]
  },
  {
   "cell_type": "markdown",
   "metadata": {},
   "source": [
    "And the correct way to visualize a PMF is either with a bar chart or with a stem plot."
   ]
  },
  {
   "cell_type": "code",
   "execution_count": null,
   "metadata": {},
   "outputs": [],
   "source": [
    "coin_pmf"
   ]
  },
  {
   "cell_type": "code",
   "execution_count": null,
   "metadata": {},
   "outputs": [],
   "source": [
    "plt.bar(range(len(coin_pmf)), coin_pmf.values(), tick_label=[*coin_pmf]);"
   ]
  },
  {
   "cell_type": "code",
   "execution_count": null,
   "metadata": {},
   "outputs": [],
   "source": [
    "plt.stem(coin_pmf.values(), use_line_collection=True)\n",
    "plt.xticks(range(len(coin_pmf)), [*coin_pmf]);"
   ]
  },
  {
   "cell_type": "markdown",
   "metadata": {},
   "source": [
    "Though a stem plot doesn't look very nice with only two outcomes. We can encapsulate this into a function."
   ]
  },
  {
   "cell_type": "code",
   "execution_count": null,
   "metadata": {},
   "outputs": [],
   "source": [
    "def plot_PMF(pmf, ptype='bars', label=None):\n",
    "    prob = pmf.values()\n",
    "    labels = [*pmf]\n",
    "    \n",
    "    if ptype == 'bars':\n",
    "        plt.bar(range(len(pmf)), prob, tick_label=labels, label=label);\n",
    "    elif ptype == 'stem':\n",
    "        plt.stem(prob, use_line_collection=True)\n",
    "        plt.xticks(range(len(pmf)), labels, label=label);\n",
    "    else:\n",
    "        raise NotImplementedError\n",
    "    plt.ylabel('probability')"
   ]
  },
  {
   "cell_type": "code",
   "execution_count": null,
   "metadata": {},
   "outputs": [],
   "source": [
    "# The empirical probabilities only equal the theoretical probabilities in the limit n->infty.\n",
    "# This is called the law of large numbers.\n",
    "# Try different number of trials and explore the convergence.\n",
    "plot_PMF(PMF(toss_coin(10)))"
   ]
  },
  {
   "cell_type": "markdown",
   "metadata": {},
   "source": [
    "> #### Challenge questions\n",
    "> - How would you determine of a coin is fair or unfair?\n",
    "> - How would you turn an unfair coin to a fair coin? Hint: Consider the possibility of several tosses."
   ]
  },
  {
   "cell_type": "markdown",
   "metadata": {},
   "source": [
    "For the previous questions, the concept of independence is important. Remember that if two events are independent, then\n",
    "$$\n",
    "P(A\\cap B) = P(A)P(B)\n",
    "$$\n",
    "So, for example, for a double coin toss."
   ]
  },
  {
   "cell_type": "code",
   "execution_count": null,
   "metadata": {},
   "outputs": [],
   "source": [
    "double_toss_pmf = Counter(HH=0.25, TT=0.25, HT=0.25, TH=0.25)\n",
    "# Two events\n",
    "first_heads = {'HH', 'HT'}\n",
    "second_tails = {'HT', 'TT'}\n",
    "\n",
    "# Test for independence\n",
    "P(first_heads&second_tails, double_toss_pmf) == P(first_heads, double_toss_pmf)*P(second_tails, double_toss_pmf)"
   ]
  },
  {
   "cell_type": "markdown",
   "metadata": {},
   "source": [
    "# Discrete Random Variables"
   ]
  },
  {
   "cell_type": "markdown",
   "metadata": {},
   "source": [
    "PMF describe discrete random variables. Mathematically, the PMF is defined as\n",
    "$$\n",
    "p_X(x_i) = P(X = x_i)\n",
    "$$\n",
    "When obtaining the empirical PMF from a dataset, we are estimating the theoretical PMF. Strictly, random variables must take numerical values, so in the coin example above, we must modify our function to return 1 for H and 0 for T. With the above restriction, it now makes sense to calculate expectations and variance of distribution.\n",
    "\\begin{align}\n",
    "E[X] =& \\sum_{x\\in X(\\Omega)} x P(X=x)\\\\\n",
    "Var(X) =& E[(X - E[X]^2)^2] = E[X^2] - E[X]^2\\\\\n",
    "=& \\sum_{x\\in X(\\Omega)} x^2 P(X=x) - \\left(\\sum_{x\\in X(\\Omega)} x P(X=x)\\right)^2\n",
    "\\end{align}"
   ]
  },
  {
   "cell_type": "markdown",
   "metadata": {},
   "source": [
    "> #### Practice exercise\n",
    "> 1. Calculate the expectation and variance of a coin flip and a die roll\n",
    "> 2. Prove the second equality in the variance equation"
   ]
  },
  {
   "cell_type": "markdown",
   "metadata": {},
   "source": [
    "Expectation is a linear function:\n",
    "\\begin{align}\n",
    "E[\\sum c_i X_i + b] = \\sum c_i E[X_i] + b\n",
    "\\end{align}\n",
    "\n",
    "The variance holds the following properties:\n",
    "$$\n",
    "Var(X) \\geq 0\\\\\n",
    "Var(c X + b) = c^2 Var(X)\n",
    "$$\n",
    "\n",
    "Furthermore, for **independent** random variables:\n",
    "$$\n",
    "E[\\prod X_i] = \\prod E[X_i]\\\\\n",
    "Var(\\sum X_i) = \\sum Var(X_i)\n",
    "$$\n",
    "\n",
    "> #### Practice exercise\n",
    "> 1. Prove the properties above."
   ]
  },
  {
   "cell_type": "markdown",
   "metadata": {},
   "source": [
    "As an example, we will use the The National Survey of Family Growth data, following some  of Allen Downey examples from [Think Stats 2e](https://greenteapress.com/wp/think-stats-2e/).\n",
    "\n",
    "Since 1973 the U.S. Centers for Disease Control and Prevention (CDC)\n",
    "have conducted the National Survey of Family Growth (NSFG), which is\n",
    "intended to gather \"information on family life, marriage and divorce, pregnancy, infertility, use of contraception, and men's and women's health. The survey results are used . . . to plan health services and health education programs, and to do statistical studies of families, fertility, and health.\" The NSFG has been conducted seven times; each deployment is called a\n",
    "cycle. We will use data from Cycle 6, which was conducted from January\n",
    "2002 to March 2003.\n",
    "\n",
    "Pregnancy data from Cycle 6 of the NSFG is in a file called 2002FemPreg.pkl; it is a pickle python binary, meaning it contains an exported Python object, in this case a Pandas data frame. Each line in the data frame is a record that contains data about one pregnancy. It contains, among many more, the following variables:\n",
    "- `caseid` is the integer ID of the respondent\n",
    "- `prglngth` is the integer duration of the pregnancy in weeks.\n",
    "- `outcome` is an integer code for the outcome of the pregnancy. The code 1 indicates a live birth.\n",
    "- `pregordr` is a pregnancy serial number; for example, the code for a respondent's first pregnancy is 1, for the second pregnancy is 2, and so on.\n",
    "- `birthord` is a serial number for live births; the code for a respondent's first child is 1, and so on. For outcomes other than live birth, this field is blank.\n",
    "- `birthwgt_lb` and `birthwgt_oz` contain the pounds and ounces parts of the birth weight of the baby.\n",
    "- `agepreg` is the mother's age at the end of the pregnancy.\n",
    "- `finalwgt` is the statistical weight associated with the respondent. It is a floating-point value that indicates the number of people in the U.S. population this respondent represents."
   ]
  },
  {
   "cell_type": "code",
   "execution_count": null,
   "metadata": {},
   "outputs": [],
   "source": [
    "columns= ['caseid', 'prglngth', 'outcome', 'pregordr', 'birthord', 'birthwgt_lb', 'birthwgt_oz', 'agepreg', 'finalwgt']\n",
    "preg = pd.read_pickle('data/2002FemPreg.pkl.zip')\n",
    "preg = preg[columns]\n",
    "preg.head()"
   ]
  },
  {
   "cell_type": "markdown",
   "metadata": {},
   "source": [
    "We start by selecting records for live births, then splitting into first borns and other."
   ]
  },
  {
   "cell_type": "code",
   "execution_count": null,
   "metadata": {},
   "outputs": [],
   "source": [
    "live = preg[preg.outcome == 1]\n",
    "first = live[live.birthord == 1]\n",
    "other = live[live.birthord != 1]"
   ]
  },
  {
   "cell_type": "code",
   "execution_count": null,
   "metadata": {},
   "outputs": [],
   "source": [
    "Counter(live.birthwgt_lb.dropna())"
   ]
  },
  {
   "cell_type": "code",
   "execution_count": null,
   "metadata": {},
   "outputs": [],
   "source": [
    "PMF(live.birthwgt_lb.dropna())"
   ]
  },
  {
   "cell_type": "code",
   "execution_count": null,
   "metadata": {},
   "outputs": [],
   "source": [
    "plot_PMF(PMF(live.birthwgt_lb.dropna()))"
   ]
  },
  {
   "cell_type": "markdown",
   "metadata": {},
   "source": [
    "Now, comparing pregnancy length between first borns and others:"
   ]
  },
  {
   "cell_type": "code",
   "execution_count": null,
   "metadata": {},
   "outputs": [],
   "source": [
    "first_pmf = PMF(first.prglngth.dropna())\n",
    "other_pmf = PMF(other.prglngth.dropna())\n",
    "\n",
    "plt.stem([*first_pmf.keys()], first_pmf.values(), label='first', use_line_collection=True, basefmt=\" \", linefmt='--r', markerfmt='or')\n",
    "plt.stem([*other_pmf.keys()], other_pmf.values(), label='other', use_line_collection=True, basefmt=\" \", linefmt='--b', markerfmt='ob')\n",
    "plt.xlim(27, 50)\n",
    "plt.legend();"
   ]
  },
  {
   "cell_type": "code",
   "execution_count": null,
   "metadata": {},
   "outputs": [],
   "source": [
    "plt.bar([*first_pmf.keys()], first_pmf.values(), label='first', alpha=0.4)\n",
    "plt.bar([*other_pmf.keys()], other_pmf.values(), label='other', alpha=0.4)\n",
    "plt.xlim(27, 50)\n",
    "plt.legend();"
   ]
  },
  {
   "cell_type": "markdown",
   "metadata": {},
   "source": [
    "By plotting the PMF instead of the histogram, we can compare the two\n",
    "distributions without being mislead by the difference in sample size. Based\n",
    "on this figure, first babies seem to be less likely than others to arrive on time\n",
    "(week 39) and more likely to be a late (weeks 41 and 42)."
   ]
  },
  {
   "cell_type": "markdown",
   "metadata": {},
   "source": [
    "> #### Exercise\n",
    "> Write functions called `pmf_mean` and `pmf_var` that take a PMF as an input and compute the mean and variance. "
   ]
  },
  {
   "cell_type": "code",
   "execution_count": null,
   "metadata": {
    "deletable": false,
    "nbgrader": {
     "cell_type": "code",
     "checksum": "7dd135578d3096fc57019bb3bdb47575",
     "grade": false,
     "grade_id": "cell-fccdfb347c54212c",
     "locked": false,
     "schema_version": 3,
     "solution": true,
     "task": false
    }
   },
   "outputs": [],
   "source": [
    "def pmf_mean(pmf):\n",
    "    # YOUR CODE HERE\n",
    "    raise NotImplementedError()\n",
    "    \n",
    "def pmf_var(pmf):\n",
    "    # YOUR CODE HERE\n",
    "    raise NotImplementedError()\n",
    "\n",
    "# Note: It would be nice to define a PMF class that holds the plot, mean, and var functions."
   ]
  },
  {
   "cell_type": "code",
   "execution_count": null,
   "metadata": {
    "deletable": false,
    "editable": false,
    "nbgrader": {
     "cell_type": "code",
     "checksum": "07ca77fb8701ad9ad66b302950745f76",
     "grade": true,
     "grade_id": "cell-6e53fc644a9772aa",
     "locked": true,
     "points": 2,
     "schema_version": 3,
     "solution": false,
     "task": false
    }
   },
   "outputs": [],
   "source": [
    "# Check your functions with a die toss\n",
    "die_pmf = {1:1/6, 2:1/6, 3:1/6, 4:1/6, 5:1/6, 6:1/6}\n",
    "\n",
    "print(pmf_mean(die_pmf))\n",
    "print(pmf_var(die_pmf))"
   ]
  },
  {
   "cell_type": "markdown",
   "metadata": {},
   "source": [
    "## Exercise: Biased distribution\n",
    "\n",
    "This exercise is found in Think Stats 2e by Allen Downey:\n",
    "\n",
    "In most foot races, everyone starts at the same time. If you are a fast runner, you usually pass a lot of people at the beginning of the race, but after a few miles everyone around you is going at the same speed. When I ran a long-distance (209 miles) relay race for the first time, I noticed an odd phenomenon: when I overtook another runner, I was usually much faster, and when another runner overtook me, he was usually much faster.\n",
    "\n",
    "At first I thought that the distribution of speeds might be bimodal; that is, there were many slow runners and many fast runners, but few at my speed.\n",
    "\n",
    "Then I realized that I was the victim of a bias similar to the effect of class size. The race was unusual in two ways: it used a staggered start, so teams started at different times; also, many teams included runners at different levels of ability.\n",
    "\n",
    "As a result, runners were spread out along the course with little relationship between speed and location. When I joined the race, the runners near me were (pretty much) a random sample of the runners in the race.\n",
    "\n",
    "So where does the bias come from? During my time on the course, the chance of overtaking a runner, or being overtaken, is proportional to the difference in our speeds. I am more likely to catch a slow runner, and more likely to be caught by a fast runner. But runners at the same speed are unlikely to see each other.\n",
    "\n",
    "Write a function called ObservedPmf that takes a Pmf representing the actual distribution of runners' speeds, and the speed of a running observer, and returns a new PMF representing the distribution of runners' speeds as seen by the observer.\n",
    "\n",
    "Compute the distribution of speeds you would observe if you ran a relay race at 7 mph with this group of runners."
   ]
  },
  {
   "cell_type": "code",
   "execution_count": null,
   "metadata": {},
   "outputs": [],
   "source": [
    "# Obtain speeds from the James Joyce Ramble 10K in Dedham MA\n",
    "speeds = np.loadtxt('data/speeds.txt')\n",
    "\n",
    "pmf = PMF(speeds)\n",
    "plot_PMF(pmf, label='actual speeds')\n",
    "plt.xlabel('Speed (mph)')\n",
    "plt.ylabel('PMF')\n",
    "plt.legend();"
   ]
  },
  {
   "cell_type": "code",
   "execution_count": null,
   "metadata": {
    "deletable": false,
    "nbgrader": {
     "cell_type": "code",
     "checksum": "9ed368ec0e25899cd42bb8ba27a3ca17",
     "grade": false,
     "grade_id": "cell-a3d86afdb1ddd9aa",
     "locked": false,
     "schema_version": 3,
     "solution": true,
     "task": false
    }
   },
   "outputs": [],
   "source": [
    "# The idea is to take the original distribution \n",
    "# and modify the probabilities to make them proportional to the\n",
    "# relative speeds. Remeber to normalize the new distribution.\n",
    "def ObservedPmf(pmf, speed):\n",
    "    \"\"\"Returns a new Pmf representing speeds observed at a given speed.\n",
    "\n",
    "    The chance of observing a runner is proportional to the difference\n",
    "    in speed.\n",
    "\n",
    "    Args:\n",
    "        pmf: distribution of actual speeds\n",
    "        speed: speed of the observing runner\n",
    "\n",
    "    Returns:\n",
    "        Pmf object\n",
    "    \"\"\"\n",
    "    # Always use a new copy\n",
    "    new = pmf.copy()\n",
    "    \n",
    "    # YOUR CODE HERE\n",
    "    raise NotImplementedError()\n",
    "    \n",
    "    return new"
   ]
  },
  {
   "cell_type": "code",
   "execution_count": null,
   "metadata": {},
   "outputs": [],
   "source": [
    "# Plot the new distribution, it should be bimodal.\n",
    "biased = ObservedPmf(pmf, 7)\n",
    "plot_PMF(biased, label='observed speeds')\n",
    "plt.xlabel('Speed (mph)')\n",
    "plt.ylabel('PMF')\n",
    "plt.legend();"
   ]
  },
  {
   "cell_type": "code",
   "execution_count": null,
   "metadata": {
    "deletable": false,
    "editable": false,
    "nbgrader": {
     "cell_type": "code",
     "checksum": "50058be129ac0474d44ce11bfbc69c5e",
     "grade": true,
     "grade_id": "cell-8c0c61315f476c7c",
     "locked": true,
     "points": 4,
     "schema_version": 3,
     "solution": false,
     "task": false
    }
   },
   "outputs": [],
   "source": [
    "# Find the modes ( two largest probabilities)\n",
    "modes = sorted(biased.items(), key=lambda item: item[1])[-2:]\n",
    "print(modes)\n",
    "print(f\"Modes are at {modes[0][0]} and {modes[1][0]}. Should have obtaines 5.25 and 5.7.\")"
   ]
  },
  {
   "cell_type": "markdown",
   "metadata": {},
   "source": [
    "## References and textual sources\n",
    "- Seeing Theory, at https://seeing-theory.brown.edu/\n",
    "- Peter Norvig probability pytudes, at https://github.com/norvig/pytudes"
   ]
  },
  {
   "cell_type": "code",
   "execution_count": null,
   "metadata": {},
   "outputs": [],
   "source": []
  }
 ],
 "metadata": {
  "kernelspec": {
   "display_name": "Python 3.10.6 64-bit",
   "language": "python",
   "name": "python3"
  },
  "language_info": {
   "codemirror_mode": {
    "name": "ipython",
    "version": 3
   },
   "file_extension": ".py",
   "mimetype": "text/x-python",
   "name": "python",
   "nbconvert_exporter": "python",
   "pygments_lexer": "ipython3",
   "version": "3.10.6"
  },
  "vscode": {
   "interpreter": {
    "hash": "b1be5a1e9e85905d3e4e97ef1b769f5caa870a8a58c9f9e0ae488b6f0a0e1baf"
   }
  }
 },
 "nbformat": 4,
 "nbformat_minor": 4
}

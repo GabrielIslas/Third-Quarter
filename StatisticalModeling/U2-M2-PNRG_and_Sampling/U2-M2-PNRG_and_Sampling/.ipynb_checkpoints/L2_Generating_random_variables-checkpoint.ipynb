{
 "cells": [
  {
   "cell_type": "code",
   "execution_count": 50,
   "metadata": {},
   "outputs": [],
   "source": [
    "import numpy as np\n",
    "from scipy import stats\n",
    "from collections import Counter\n",
    "from utils import plotECDF"
   ]
  },
  {
   "cell_type": "markdown",
   "metadata": {},
   "source": [
    "# Transformations of random variables\n",
    "\n",
    "This section discusses a few general techniques for obtaining the CDF and PDF of a function of a known random variable. We will apply this techniques in the next sections for the particular case of the uniform distributions, where the transformations will allow us to sample from any distributions by transforming U(0,1) random variables."
   ]
  },
  {
   "cell_type": "markdown",
   "metadata": {},
   "source": [
    "## Use of the distribution function to find the distribution of $Y = g(X)$\n",
    "\n",
    "Let $F_ X(x) = P(X \\leq x)$ be the distribution function of $X$.\n",
    "\n",
    "Let $F_Y (y) = P(Y \\leq y)$ be the distribution function of $Y = g(X)$.\n",
    "\n",
    "$$\n",
    "\\begin{align}\n",
    "F_Y (y) &= P(Y \\leq y)\\\\\n",
    "&= P(g(X) \\leq y)\\\\\n",
    "&= P(X \\in g^{-1} ((-\\infty, y])),\n",
    "\\end{align}\n",
    "$$\n",
    "where $g^{-1}((-\\infty, y]) = {x : g(x) \\in (-\\infty, y]}$. That is, the probability that $Y \\leq y$ is the probability that $X$ takes a value $x$ that satisfies $g(x) \\leq y$. We can use this approach if it is reasonably easy to find the set $g^{-1} (-\\infty, y]$."
   ]
  },
  {
   "cell_type": "markdown",
   "metadata": {},
   "source": [
    "### Example 1\n",
    "\n",
    "Let $X\\sim U(0,1)$, so $F_X(x) = x$. Find the distribution of $Y=-\\log x$, and verify it corresponds to the exponential distribution.\n",
    "$$\n",
    "\\begin{align}\n",
    "F_Y (y) = P(Y \\leq y) &= P(- \\log(X) \\leq y)\\\\\n",
    "&=P(\\log(X) \\leq -y)\\\\\n",
    "&=P(X \\geq e^{-y})\\\\\n",
    "&=1 - F_X (e^{-y}).\n",
    "\\end{align}\n",
    "$$\n",
    "If $y > 0$ , then $0 < e^{-y} < 1$ , and $F_X(e^{-y}) = e^{-y}$.\n",
    "\n",
    "So $F_Y(y) = 1 - e ^{-y}$ if $y > 0$.\n",
    "\n",
    "If $y \\leq 0$, then $e^{-y} \\geq 1$ so $F_X(e^{-y}) = 1$, and $F_Y(y) = 0$.\n",
    "$$\n",
    "F_Y (y) = \n",
    "\\begin{cases}\n",
    "1 - e^{-y} & y>0\\\\\n",
    "0 & otherwise\n",
    "\\end{cases}\n",
    "$$"
   ]
  },
  {
   "cell_type": "markdown",
   "metadata": {},
   "source": [
    "### Example 2\n",
    "\n",
    "Let $X$ have any distribution, with distribution function $F_X (x)$. Find the PDF of $Y = X^2$. Verify that is $X\\sim N(0, 1)$, then $Y\\sim \\chi^2_1$.\n",
    "\n",
    "For $y\\geq 0$, \n",
    "$$\n",
    "\\begin{align}\n",
    "F_Y(y) &= P(Y \\leq y)\\\\\n",
    "&= P(X^2 \\leq y)\\\\\n",
    "&= P(-\\sqrt{y} \\leq X \\leq \\sqrt{y})\\\\\n",
    "&= F_X(\\sqrt{y}) - F_X(-\\sqrt{y})\n",
    "\\end{align}\n",
    "$$\n",
    "So the PDF is\n",
    "$$\n",
    "f_Y(y) = \\frac{d F_Y(y)}{dy} = \\frac{1}{2\\sqrt{y}}(f_X(\\sqrt{y}) + f_X(-\\sqrt{y})).\n",
    "$$\n",
    "Plug in the PDF for a standard normal, and verify the Chi-Squared PDF is obtained."
   ]
  },
  {
   "cell_type": "markdown",
   "metadata": {},
   "source": [
    "## Change of Variable technique for monotone functions (Method of transformations)\n",
    "Let $g(x)$ be a $(1-1)$ function ('one-to-one'), i.e. for every $y$ there is a unique $x$\n",
    "such that $g(x) = y$.\n",
    "\n",
    "This means that the inverse function, $g^{-1}(y)$, is well-defined as a function for a\n",
    "certain range of $y$.\n",
    "\n",
    "When $g : R \\to R$, as it is here, then $g$ can only be $(1-1)$ if it is monotone (i.e. $g$ is an increasing function, or $g$ is a decreasing function.\n",
    "\n",
    "Let $g : R \\to R$ be a monotone function and let $Y = g(X)$. Then the PDF of $Y = g(X)$ is\n",
    "$$\n",
    "f_Y(y) = f_X(g^{-1}(y))\\left| \\frac{d g^{-1}(y)}{dy}  \\right|\n",
    "$$\n",
    "\n",
    "While not a formal proof, there is an easy way to remember this. Remember the infinitesimal probability is $dp = f_X(x)dx$. If $g(x)$ is one to  one, this probability does not change under the transformation, so\n",
    "$$\n",
    "f_X(x) dx = f_Y(y)dy.\n",
    "$$\n",
    "And solving for $f_Y$, and noting that all must be positive, we obtain the above formula. You can find the complete proof, as well as a few examples here: https://www.probabilitycourse.com/chapter4/4_1_3_functions_continuous_var.php"
   ]
  },
  {
   "cell_type": "markdown",
   "metadata": {},
   "source": [
    "### Practice exercise\n",
    "Show that if $X\\sim N(\\mu_x, \\sigma_x^2)$, and $Y=aX + b$, then $Y\\sim N(a\\mu_x+b, a^2\\sigma_x^2)$."
   ]
  },
  {
   "cell_type": "markdown",
   "metadata": {},
   "source": [
    "# Sampling from discrete distributions\n",
    "\n",
    "A discrete random variable $X$ is a random variable that has a probability mass function\n",
    "$p(x) = P(X = x)$ for any $x \\in S$, where $S = {x_1, x_2, \\ldots, x_k}$ denotes the sample space, and\n",
    "$k$ is the (possibly infinite) number of possible outcomes for the discrete variable $X$, and\n",
    "suppose $S$ is ordered from smaller to larger values. Then the CDF, $F$ for $X$ is\n",
    "$$\n",
    "F(x_j) = \\sum_{i\\leq j} p(x_i)\n",
    "$$\n",
    "Discrete random variables can be generated by slicing up the interval (0, 1) into subintervals which define a partition of (0, 1):\n",
    "$$\n",
    "(0, F(x_1)),(F(x_1), F(x_2)),(F(x_2), F(x_3)), \\ldots,(F(x_{k-1}), 1),\n",
    "$$\n",
    "generating U = Uniform(0, 1) random variables, and seeing which subinterval U falls into.\n",
    "Let $I_j = I (U \\in (F(x_j ), F(x_{j+1})))$. Then,\n",
    "$$\n",
    "P(I_j=1) = P\\left( F(x_{j-1} \\leq U \\leq F(x_j)  \\right)\n",
    "= F(x_j) - F(x_{j-1}) = p(x_i)\n",
    "$$\n",
    "where $F(x_0)$ is defined to be 0. So, the probability that $I_j = 1$ is same as the probability\n",
    "that $X = x_j$, and this can be used to generate from the distribution of X.\n",
    "\n"
   ]
  },
  {
   "cell_type": "markdown",
   "metadata": {},
   "source": [
    ">#### Exercise\n",
    "Write a function that generates random numbers from a discrete probability mass\n",
    "function. It must accept tree arguments:\n",
    "> - A list of values.\n",
    "> - A list of probabilities, such that p[i] = p(a[i])\n",
    "> - The size of the sample.\n",
    ">\n",
    ">Test your function by generating a large sample for the following mass function:\n",
    ">\n",
    ">| a |   1 |   3 |   4 |\n",
    "|---|-----|-----|-----|\n",
    "| p | 3/5 | 1/5 | 1/5 |"
   ]
  },
  {
   "cell_type": "code",
   "execution_count": 11,
   "metadata": {},
   "outputs": [
    {
     "data": {
      "text/plain": [
       "array([0.5988, 0.1985, 0.2027])"
      ]
     },
     "execution_count": 11,
     "metadata": {},
     "output_type": "execute_result"
    }
   ],
   "source": [
    "def random_discrete(a_list, p_list, size=1):\n",
    "    sample = []\n",
    "    n_set = len(a_list)\n",
    "    assert(len(p_list) == n_set)\n",
    "    assert(0.9999 < sum(p_list) <= 1)\n",
    "    ### BEGIN SOLUTION\n",
    "    u = stats.uniform.rvs(size=size)\n",
    "    cump = np.cumsum(p_list)\n",
    "    for x in u:\n",
    "        for i in range(n_set):\n",
    "            if x < cump[i]:\n",
    "                sample.append(a_list[i])\n",
    "                break\n",
    "    ### END SOLUTION\n",
    "    return sample\n",
    "\n",
    "n = 10000\n",
    "a_list = [1, 3, 4]\n",
    "p_list = [3/5, 1/5, 1/5]\n",
    "sample = random_discrete(a_list, p_list, n)\n",
    "freqs = np.unique(sample, return_counts=True)\n",
    "emp_probs = freqs[1]/n\n",
    "emp_probs"
   ]
  },
  {
   "cell_type": "code",
   "execution_count": 111,
   "metadata": {},
   "outputs": [],
   "source": [
    "### BEGIN HIDDEN TESTS\n",
    "sample = random_discrete(a_list, p_list, 10000)\n",
    "assert len(sample) == 10000\n",
    "freqs = np.unique(sample, return_counts=True)\n",
    "emp_probs = freqs[1]/n\n",
    "assert np.allclose(emp_probs, p_list, atol=0.01)\n",
    "### END HIDDEN TESTS"
   ]
  },
  {
   "cell_type": "markdown",
   "metadata": {},
   "source": [
    "Another option is to define a function over the natural numbers for the PDF, and sample from that.\n",
    "\n",
    ">#### Exercise\n",
    "Write a function that generates random numbers from a discrete probability mass\n",
    "function defined over the natural numbers. It must accept tree arguments:\n",
    "> - A function that return the pmf for any integer x >= 0.\n",
    "> - The size of the sample.\n",
    "> - The arguments of the pmf function.\n",
    ">\n",
    "> Test your function by generating a large sample for the Poisson distribution."
   ]
  },
  {
   "cell_type": "code",
   "execution_count": 112,
   "metadata": {},
   "outputs": [
    {
     "data": {
      "image/png": "[encoded data removed]",
      "text/plain": [
       "<Figure size 432x288 with 1 Axes>"
      ]
     },
     "metadata": {
      "needs_background": "light"
     },
     "output_type": "display_data"
    }
   ],
   "source": [
    "def pois_pdf(x, lambda_):\n",
    "    return np.exp(-lambda_)*lambda_** x/np.math.factorial(x)\n",
    "\n",
    "def random_discrete_2(func, size=1, **kargs):\n",
    "    sample = []\n",
    "    ### BEGIN SOLUTION\n",
    "    u = stats.uniform.rvs(size=size)\n",
    "    for ui in u:\n",
    "        x = 0\n",
    "        cump = func(x, **kargs)\n",
    "        while ui > cump:\n",
    "            x += 1\n",
    "            cump += func(x, **kargs)\n",
    "        sample.append(x)\n",
    "    ### END SOLUTION\n",
    "    return np.array(sample)\n",
    "\n",
    "sample = random_discrete_2(pois_pdf, size=10000, lambda_=4)\n",
    "freqs = np.unique(sample, return_counts=True)\n",
    "emp_probs = freqs[1]/10000\n",
    "plt.bar(freqs[0], emp_probs)\n",
    "plt.stem(freqs[0], stats.poisson.pmf(freqs[0], mu=4),\n",
    "         use_line_collection=True, markerfmt='or', linefmt='-r');"
   ]
  },
  {
   "cell_type": "code",
   "execution_count": 133,
   "metadata": {},
   "outputs": [],
   "source": [
    "### BEGIN HIDDEN TESTS\n",
    "sample = random_discrete_2(pois_pdf, size=10000, lambda_=4)\n",
    "assert len(sample) == 10000\n",
    "tcdf = stats.poisson(mu=4)\n",
    "test = stats.ks_2samp(sample, tcdf.rvs(10000))\n",
    "assert test[1] > .2\n",
    "### END HIDDEN TESTS"
   ]
  },
  {
   "cell_type": "markdown",
   "metadata": {},
   "source": [
    "# Sampling from continuous distributions\n",
    "\n",
    "Continuous random variables are (informally) those whose sample space is composed\n",
    "of real intervals not exclusively containing integers. In a continuous distribution the probability of taking on any particular value in the sample space in 0; probabilities can only be\n",
    "assigned to intervals in a continuous distribution. For this reason the logic of the previous\n",
    "section does not apply directly and other methods must be used."
   ]
  },
  {
   "cell_type": "markdown",
   "metadata": {},
   "source": [
    "## Inversion Method"
   ]
  },
  {
   "cell_type": "markdown",
   "metadata": {},
   "source": [
    "It is a fact that if X has CDF F, then F(X) has a Uniform(0, 1) distribution. The proof\n",
    "of this is a straightforward calculation:\n",
    "$$\n",
    "\\begin{align}\n",
    "P(F(X) \\leq x) &= P(F^{-1}(F(X)) \\leq F^{-1}(x))\\\\\n",
    "&= P(X \\leq F^{-1}(x))\\\\\n",
    "&= F(F^{-1}(x))\\\\\n",
    "&= x\n",
    "\\end{align}\n",
    "$$\n",
    "So the CDF of $F(X)$ is $x$, which is the same as the CDF of as $Uniform(0, 1)$. Here $F^{-1}$\n",
    "denotes the inverse of the CDF (also called the quantile function) and is defined as the\n",
    "function which satisfies:\n",
    "$$\n",
    "F(x) = y \\Longleftrightarrow x = F^{-1}(y)\n",
    "$$\n",
    "In other words, $F(F^{-1}(y)) = y$ and $F^{-1}(F(x)) = x$. The fact above implies that if $X$ has\n",
    "CDF $F$, then\n",
    "$$F^{-1}(U)$$\n",
    "will have CDF $F$. So, if you are able to calculate $F^{-1}$, and can\n",
    "generate uniforms, then you can generate a sample from $F$.\n",
    "\n",
    "**Proof**.\n",
    "Let $Y=F^{-1}(U)$,\n",
    "$$\n",
    "\\begin{align}\n",
    "P(Y \\leq y) &= P(F^{-1}(U ) \\leq y)\\\\\n",
    "&= P(U \\leq F (y))\\\\\n",
    "&= F(y)\n",
    "\\end{align}\n",
    "$$"
   ]
  },
  {
   "cell_type": "markdown",
   "metadata": {},
   "source": [
    "> #### Exercise\n",
    "Define a function that takes as an input the inverse CDF and returns a sample with that specific distribution. Use your function to generate random samples from the following distributions.\n",
    ">1. $F(x) = \\frac{x}{1+x}$. This distribution has mean and variance equal to $\\infty$. Due to the long tails, this distribution is a good candidate for a trial distribution in\n",
    "rejection sampling, which we will mention later.  \n",
    ">2. $F(x) = \\left(\\frac{x}{1+e^{-x}}\\right)^\\theta$. This distribution is known as the skew logistic distribution, which is symmetric when $\\theta = 1$, and skewed otherwise. \n",
    ">\n",
    ">You need to calculate the inverse CDF first."
   ]
  },
  {
   "cell_type": "code",
   "execution_count": 59,
   "metadata": {},
   "outputs": [],
   "source": [
    "def inv_sampling(func, size=1, **kwargs):\n",
    "    ### BEGIN SOLUTION\n",
    "    U = stats.uniform.rvs(size=size)\n",
    "    X = np.array([func(u, **kwargs) for u in U])\n",
    "    return X\n",
    "    ### END SOLUTION"
   ]
  },
  {
   "cell_type": "code",
   "execution_count": 225,
   "metadata": {},
   "outputs": [
    {
     "data": {
      "image/png": "[encoded data removed]",
      "text/plain": [
       "<Figure size 432x288 with 1 Axes>"
      ]
     },
     "metadata": {
      "needs_background": "light"
     },
     "output_type": "display_data"
    }
   ],
   "source": [
    "# First RV\n",
    "\n",
    "def F1(x):\n",
    "    return x/(1+x)\n",
    "\n",
    "def inv_F1(x):\n",
    "    ### BEGIN SOLUTION\n",
    "    return x/(1-x) \n",
    "    ### END SOLUTION\n",
    "    \n",
    "sample = inv_sampling(inv_F1, 10000)\n",
    "xg = np.linspace(0, 100, 100)\n",
    "plotECDF(sample, fmt='o', color='r', alpha=0.5)\n",
    "plt.xlim(0, 100)\n",
    "plt.plot(xg, [F1(x) for x in xg], lw=4);\n",
    "### BEGIN HIDDEN TESTS\n",
    "assert stats.kstest(sample, F1)[1] > 0.05\n",
    "### END HIDDEN TESTS"
   ]
  },
  {
   "cell_type": "code",
   "execution_count": 239,
   "metadata": {},
   "outputs": [
    {
     "data": {
      "image/png": "[encoded data removed]",
      "text/plain": [
       "<Figure size 432x288 with 1 Axes>"
      ]
     },
     "metadata": {
      "needs_background": "light"
     },
     "output_type": "display_data"
    }
   ],
   "source": [
    "# Second RV\n",
    "\n",
    "def F2(x, theta):\n",
    "    return (1/(1 + np.exp(-x)))**theta\n",
    "\n",
    "def inv_F2(x, theta):\n",
    "    ### BEGIN SOLUTION\n",
    "    return -np.log((1/x)**(1/theta) - 1)\n",
    "    ### END SOLUTION\n",
    "    \n",
    "sample = inv_sampling(inv_F2, size=10000, theta=4)\n",
    "xg = np.linspace(-2, 10, 100)\n",
    "plotECDF(sample, fmt='o', color='r', alpha=0.5)\n",
    "plt.xlim(-2, 10)\n",
    "plt.plot(xg, [F2(x, theta=4) for x in xg], lw=4);\n",
    "### BEGIN HIDDEN TESTS\n",
    "assert stats.kstest(sample, lambda x: F2(x, 4))[1] > 0.05\n",
    "### END HIDDEN TESTS"
   ]
  },
  {
   "cell_type": "markdown",
   "metadata": {},
   "source": [
    "In many cases you can not symbolically invert the CDF (the normal distribution is an\n",
    "example of this). In principle, you can still use this method in such situations, but you\n",
    "will have to numerically calculate the quantile function. "
   ]
  },
  {
   "cell_type": "markdown",
   "metadata": {},
   "source": [
    "## Transformation Method\n",
    "\n",
    "In some situations you can know mathematically that a particular function of a random\n",
    "variable has a certain distribution. When such relationships are know, it gives a simple way of generating from a distribution.\n",
    "\n",
    "One such methods is the Box-Muller transform for generating normal variables. If $U_1$ and $U_2$ are independent $U(0, 1)$ random variables, then\n",
    "$$\n",
    "X_1 = \\sqrt{-2\\ln U_1}\\cos(2\\pi U_2) = R\\cos(\\Theta)\\\\\n",
    "X_2 = \\sqrt{-2\\ln U_1}\\sin(2\\pi U_2) = R\\sin(\\Theta)\n",
    "$$\n",
    "are independent standard normal random variables.\n",
    "\n",
    "The derivation is based on a property of a two-dimensional Cartesian system, where $X$ and $Y$ coordinates are described by two independent and normally distributed random variables, the random variables for $R^2$ and $\\theta$ (shown above) in the corresponding polar coordinates are also independent and can be expressed as\n",
    "$$\n",
    "R^{2}=-2\\cdot \\ln U_{1},\n",
    "$$\n",
    "and\n",
    "$$\n",
    "\\Theta =2\\pi U_{2}.\n",
    "$$\n",
    "Because $R^2$ is the square of the norm of the standard bivariate normal variable ($X$, $Y$), it has the chi-squared distribution with two degrees of freedom. In the special case of two degrees of freedom, the chi-squared distribution coincides with the exponential distribution, and the equation for $R^2$ above is a simple way of generating the required exponential variate."
   ]
  },
  {
   "cell_type": "markdown",
   "metadata": {},
   "source": [
    ">#### Exercise\n",
    "Implement the Box-Muller transform."
   ]
  },
  {
   "cell_type": "code",
   "execution_count": 240,
   "metadata": {},
   "outputs": [],
   "source": [
    "def box_muller(size=2):\n",
    "    ### BEGIN SOLUTION\n",
    "    size = int(size/2)\n",
    "    U1 = stats.uniform.rvs(size=size)\n",
    "    U2 = stats.uniform.rvs(size=size)\n",
    "    X1 = np.sqrt(-2*np.log(U1))*np.cos(2*np.pi*U2)\n",
    "    X2 = np.sqrt(-2*np.log(U1))*np.sin(2*np.pi*U2)\n",
    "    return np.concatenate([X1, X2])\n",
    "    ### END SOLUTION"
   ]
  },
  {
   "cell_type": "code",
   "execution_count": 247,
   "metadata": {},
   "outputs": [
    {
     "data": {
      "image/png": "[encoded data removed]",
      "text/plain": [
       "<Figure size 432x288 with 1 Axes>"
      ]
     },
     "metadata": {
      "needs_background": "light"
     },
     "output_type": "display_data"
    }
   ],
   "source": [
    "sample = box_muller(size=10000)\n",
    "plt.hist(sample, bins=50, density=True)\n",
    "xg = np.linspace(-4, 4, 100)\n",
    "plt.plot(xg, stats.norm.pdf(xg));\n",
    "### BEGIN HIDDEN TESTS\n",
    "assert stats.kstest(sample, stats.norm.cdf)[1] > 0.05\n",
    "### END HIDDEN TESTS"
   ]
  },
  {
   "cell_type": "markdown",
   "metadata": {},
   "source": [
    "Several other useful transformation identities are:\n",
    "- if $X_1, \\ldots, X_k \\sim N(0, 1)$, then $\\sum_{i=1}^k X_i^2 \\sim \\chi_k^2$. \n",
    "- if $X_1, \\ldots, X_k \\sim exponential(\\lambda)$, then $\\sum_{i=1}^k X_i^2 \\sim Gamma(k,\\lambda)$. \n",
    "- if $U \\sim Uniform(0, 1)$, then $1 - X^{1/k} \\sim Beta(1, n)$.\n",
    "- if $X_1 \\sim Gamma(\\alpha, \\lambda)$ and $X_2 \\sim Gamma(\\beta, \\lambda)$, then $\\frac{X_1}{X_2+X_1} \\sim Beta(\\alpha, \\beta)$.\n",
    "- if $X \\sim t(df)$, then $X^2 \\sim F(1, df)$.\n",
    "\n",
    "As an exercise for later check by simulation that these identities hold"
   ]
  },
  {
   "cell_type": "markdown",
   "metadata": {},
   "source": [
    "## Rejection Sampling\n",
    "\n",
    "Rejection sampling is a general algorithm to generate samples from a distribution with\n",
    "density $f$  (called the target density) based only on the ability to generate from another\n",
    "distribution with density $h$ (usually referred to as the trial density).\n",
    "\n",
    "This method requires a function g that majorizes $f$,\n",
    "$$\n",
    "g(x) \\geq f(x)\n",
    "$$\n",
    "for all $x$. Now $g$ will not be a density, since\n",
    "$$\n",
    "M = \\int_{-\\infty}^{\\infty} g(x)dx \\geq 1.\n",
    "$$\n",
    "But, as long as $c<\\infty$, we can obtain a density $h(x) = g(x)/M$. So we have\n",
    "$$\n",
    "M h(x) \\geq f(x)\n",
    "$$\n",
    "or\n",
    "$$\n",
    "M \\geq  \\frac{f(x)}{h(x)}\n",
    "$$\n",
    "\n"
   ]
  },
  {
   "cell_type": "markdown",
   "metadata": {},
   "source": [
    "Algorithm:\n",
    "\n",
    "1. Generate $Y$ having density $h$;\n",
    "2. Generate $U$ from $U(0, 1)$, independent of $Y$;\n",
    "3. If $U \\leq f(Y)/g(Y)$, then set $X = Y$ ; else go back to step 1.\n",
    "\n",
    "The random variable $X$ generated by this algorithm has density $f$."
   ]
  },
  {
   "cell_type": "markdown",
   "metadata": {},
   "source": [
    "Showing the distribution of accepted draws is the same as the target distribution is a\n",
    "simple conditional probability calculation. First we will show that the acceptance rate is\n",
    "1/M:\n",
    "$$\n",
    "\\begin{align}\n",
    "P(accept) &= \\int_{-\\infty}^\\infty P(Accept|Y = y)h(y)dy\\\\\n",
    "&= \\int_{-\\infty}^\\infty P(U\\leq f(y)/g(y))h(y)dy\\\\\n",
    "&= \\int_{-\\infty}^\\infty \\frac{f(y)}{M h(y)}h(y)dy\\\\\n",
    "&\\frac{1}{M}\\int_{-\\infty}^\\infty h(y)dy\\\\\n",
    "&=\\frac{1}{M}\n",
    "\\end{align}\n",
    "$$"
   ]
  },
  {
   "cell_type": "markdown",
   "metadata": {},
   "source": [
    "Now, \n",
    "$$\n",
    "\\begin{align}\n",
    "P(X \\leq x) &= P(Y \\leq x|Y accepted)\\\\\n",
    "&=\\frac{P(Y \\leq x, Y accepted)}{P(Y accepted)}\\\\\n",
    "&= M\\int_{-\\infty}^x\\frac{f(y)}{g(y)}h(y)dy\\\\\n",
    "&=\\int_{-\\infty}^x f(y) dy \n",
    "\\end{align}\n",
    "$$"
   ]
  },
  {
   "cell_type": "markdown",
   "metadata": {},
   "source": [
    "Note that the number of iterations is geometrically distributed with mean $M$.\n",
    "\n",
    "One drawback of this method is that you will end up generating more uniforms than\n",
    "necessary, since some of them will get rejected. Since the rejection rate is equal to 1/M, you will have\n",
    "to, on average, generate $M\\cdot n$ draws from the trial distribution and from the uniform\n",
    "distribution just to get n draws from the target distribution. So choosing M to be too\n",
    "large will yield an inefficient algorithm, and it pays to find a sharp bound for M. The Cauchy distribution is one that will have larger tails than almost any other distribution you will ever deal with, so usually makes a good trial density. Also, for most nonnegative random variables, the first distribution we demonstrated the inversion method\n",
    "can be used as a trial density."
   ]
  },
  {
   "cell_type": "markdown",
   "metadata": {},
   "source": [
    "### Example\n",
    "\n",
    "Generate exponential random variables using rejection sampling. We will naively choose the uniform distribution (constant g) as our trial distribution. This is easy to sample, but increases the number of rejections. In the example, $g(x) = 1$, a constant, but since we are sampling from $h(x) = 1/10$, the U(1,10) distribution, $M=10$."
   ]
  },
  {
   "cell_type": "code",
   "execution_count": 89,
   "metadata": {},
   "outputs": [
    {
     "name": "stdout",
     "output_type": "stream",
     "text": [
      "Count 99417 \n",
      "Accepted 10000 \n",
      "Emp acceptance rate: 0.1005864188217307 \n",
      "Theoretical acceptance rate: 0.1\n"
     ]
    },
    {
     "data": {
      "image/png": "[encoded data removed]",
      "text/plain": [
       "<Figure size 432x288 with 1 Axes>"
      ]
     },
     "metadata": {
      "needs_background": "light"
     },
     "output_type": "display_data"
    }
   ],
   "source": [
    "# The target density, the exponential\n",
    "def P(x):\n",
    "    return np.exp(-x)\n",
    "\n",
    "# Since we are naivly using the uniform trial density, we need to bound the domain.\n",
    "# Domain limits\n",
    "xmin = 0   # the lower limit of our domain\n",
    "xmax = 10  # the upper limit of our domain\n",
    "\n",
    "# The max if the exp dentsity is 1, take this as ymax\n",
    "ymax = 1\n",
    "\n",
    "N = 10000     # the total of samples we wish to generate\n",
    "accepted = 0  # the number of accepted samples\n",
    "samples = np.zeros(N)\n",
    "count = 0     # the total count of proposals\n",
    "\n",
    "# generation loop\n",
    "while (accepted < N):\n",
    "    # pick a uniform number on [xmin, xmax) (e.g. 0...10)\n",
    "    x = np.random.uniform(xmin, xmax)\n",
    "\n",
    "    # pick a uniform number on [0, ymax)\n",
    "    y = np.random.uniform(0, ymax)\n",
    "\n",
    "    # Do the accept/reject comparison\n",
    "    if y < P(x):\n",
    "        samples[accepted] = x\n",
    "        accepted += 1\n",
    "\n",
    "    count += 1\n",
    "\n",
    "\n",
    "print(\"Count\", count, \"\\nAccepted\", accepted, \"\\nEmp acceptance rate:\", accepted/count,\n",
    "     \"\\nTheoretical acceptance rate:\", 1/10)\n",
    "\n",
    "# plot the histogram\n",
    "plt.hist(samples, bins=30, label='Samples', density=True)\n",
    "\n",
    "# plot our (normalized) function\n",
    "xvals = np.linspace(xmin, xmax, 1000)\n",
    "plt.plot(xvals, P(xvals), 'r', label='P(x)')\n",
    "\n",
    "# turn on the legend\n",
    "plt.legend();"
   ]
  },
  {
   "cell_type": "markdown",
   "metadata": {},
   "source": [
    "A much efficient sampling would be to choose the envelope (trial density) as close as possible to the target density. A good choice is $h(x) = 1/(1+x)$ with CDF $H(x) = \\log (x+1)$. This is NOT a true density, so we need to limit the support, lets choose $[0, 10)$.\n",
    "To choose M we need to maximize $M = \\underset{x}{\\operatorname{max}} \n",
    " \\frac{f(x)}{h(x)}$ as to have $g(x) = M(h(x)) \\geq f(x)$, a tight envelope. In this particular case, $M=1$. As h is nit a true density, this M does not define the acceptance rate as before."
   ]
  },
  {
   "cell_type": "code",
   "execution_count": 102,
   "metadata": {},
   "outputs": [
    {
     "name": "stdout",
     "output_type": "stream",
     "text": [
      "Count 23813 Accepted 10000\n"
     ]
    },
    {
     "data": {
      "image/png": "[encoded data removed]",
      "text/plain": [
       "<Figure size 432x288 with 1 Axes>"
      ]
     },
     "metadata": {
      "needs_background": "light"
     },
     "output_type": "display_data"
    }
   ],
   "source": [
    "# Our target function, the exponential\n",
    "def f(x):\n",
    "    return np.exp(-x)  # our distribution\n",
    "\n",
    "\n",
    "# Our trial function\n",
    "def h(x):\n",
    "    return 1/(x+1)\n",
    "\n",
    "M = 1\n",
    "# Our envelope\n",
    "def g(x): return M*h(x)\n",
    "\n",
    "# Generates our proposal using inverse sampling\n",
    "def CDFg(x):\n",
    "    return np.log(x + 1)\n",
    "\n",
    "# The inverse CDF\n",
    "def invCDFg(x):\n",
    "    return np.exp(x) - 1\n",
    "\n",
    "\n",
    "# domain limits\n",
    "xmin = 0   # the lower limit of our domain\n",
    "xmax = 10  # the upper limit of our domain\n",
    "\n",
    "# range limits for inverse sampling\n",
    "umin = CDFg(xmin)\n",
    "umax = CDFg(xmax)\n",
    "\n",
    "N = 10000     # the total of samples we wish to generate\n",
    "accepted = 0  # the number of accepted samples\n",
    "samples = np.zeros(N)\n",
    "count = 0     # the total count of proposals\n",
    "\n",
    "# generation loop\n",
    "while (accepted < N):\n",
    "    # Sample from g using inverse sampling\n",
    "    u = np.random.uniform(umin, umax)\n",
    "    xproposal = invCDFg(u)\n",
    "\n",
    "    # pick a uniform number on [0, 1)\n",
    "    y = np.random.uniform()\n",
    "\n",
    "    # Do the accept/reject comparison\n",
    "    if y < f(xproposal)/g(xproposal):\n",
    "        samples[accepted] = xproposal\n",
    "        accepted += 1\n",
    "\n",
    "    count += 1\n",
    "\n",
    "print(\"Count\", count, \"Accepted\", accepted)\n",
    "\n",
    "# plot the histogram\n",
    "plt.hist(samples, bins=50, label=u'Samples', density=True)\n",
    "\n",
    "# plot our (normalized) function\n",
    "xvals = np.linspace(0, 10, 1000)\n",
    "plt.plot(xvals, f(xvals), 'r', label=u'p(x)')\n",
    "plt.plot(xvals, g(xvals), 'k', label=u'g(x)')\n",
    "\n",
    "# turn on the legend\n",
    "plt.legend();"
   ]
  },
  {
   "cell_type": "markdown",
   "metadata": {},
   "source": [
    "If we want to sample on the whole domain of the exponential we need to use a true trial density with the same support. A good choice is $h(x) = 1/(1+x)^2$. We leave this as an exercise."
   ]
  },
  {
   "cell_type": "markdown",
   "metadata": {},
   "source": [
    "# Exercise\n",
    "\n",
    "Use the rejection algorithm to generate $X~N(0,1)$ in two ways:\n",
    "\n",
    "1. Apply simple rejection sampling, draw the proposals from a uniform distribution.\n",
    "2. Draw the proposals from a standard exponential Exp(1) distribution.\n",
    "\n",
    "Compare the rejection rate between the two approaches.\n",
    "Plot a histogram with the samples and the true normal PDF. This histogram will be used for grading.\n",
    "\n",
    "Tip: When sampling using the exponential as an envelope, you cannot sample from\n",
    "the complete domain (the rejection rate would be extremely high), restrict\n",
    "yourselves to the positive domain $(0, \\infty)$ and sample from the positive side\n",
    "of the exponential. Then, whenever you accept a proposal, with probability 1/2,\n",
    "change its sign.\n",
    "\n",
    "Tip: Remember to find M such that it is as close to 1 as possible and\n",
    "$M g(x) \\geq f(x)$ for all $x$."
   ]
  },
  {
   "cell_type": "code",
   "execution_count": 311,
   "metadata": {},
   "outputs": [
    {
     "name": "stdout",
     "output_type": "stream",
     "text": [
      "Count 79287 Accepted 10000\n"
     ]
    },
    {
     "data": {
      "image/png": "[encoded data removed]",
      "text/plain": [
       "<Figure size 432x288 with 1 Axes>"
      ]
     },
     "metadata": {
      "needs_background": "light"
     },
     "output_type": "display_data"
    }
   ],
   "source": [
    "# Naive sampling\n",
    "\n",
    "def f(x, mu, sigma):\n",
    "    return np.exp(-(x-mu)**2/(2*sigma**2))/(np.sqrt(2*np.pi*sigma))\n",
    "\n",
    "# domain limits\n",
    "xmin = -10   # the lower limit of our domain\n",
    "xmax = 10    # the upper limit of our domain\n",
    "\n",
    "# The maximum of the gaussian is at mu\n",
    "ymax = P(0, 0, 1)\n",
    "\n",
    "N = 10000     # the total of samples we wish to generate\n",
    "accepted = 0  # the number of accepted samples\n",
    "samples = np.zeros(N)\n",
    "count = 0     # the total count of proposals\n",
    "\n",
    "# generation loop\n",
    "while (accepted < N):\n",
    "    ### BEGIN SOLUTION\n",
    "    # pick a uniform number on [xmin, xmax) (e.g. 0...10)\n",
    "    x = np.random.uniform(xmin, xmax)\n",
    "\n",
    "    # pick a uniform number on [0, ymax)\n",
    "    y = np.random.uniform(0, ymax)\n",
    "\n",
    "    # Do the accept/reject comparison\n",
    "    if y < P(x, 0, 1):\n",
    "        samples[accepted] = x\n",
    "        accepted += 1\n",
    "\n",
    "    count += 1\n",
    "    ### END SOLUTION\n",
    "\n",
    "print(\"Count\", count, \"Accepted\", accepted)\n",
    "\n",
    "# plot the histogram\n",
    "plt.hist(samples, bins=30, label='Samples', density=True)\n",
    "# plot our (normalized) function\n",
    "xvals = np.linspace(xmin, xmax, 1000)\n",
    "plt.plot(xvals, P(xvals, 0, 1), 'r', label='P(x)')\n",
    "plt.legend();"
   ]
  },
  {
   "cell_type": "code",
   "execution_count": 313,
   "metadata": {},
   "outputs": [],
   "source": [
    "### BEGIN HIDDEN TESTS\n",
    "assert 0.11 < accepted/count < 0.13\n",
    "assert stats.kstest(sample, stats.norm.cdf)[1] > 0.05\n",
    "### END HIDDEN TESTS"
   ]
  },
  {
   "cell_type": "code",
   "execution_count": 308,
   "metadata": {},
   "outputs": [
    {
     "name": "stdout",
     "output_type": "stream",
     "text": [
      "Count 13191 Accepted 10000\n"
     ]
    },
    {
     "data": {
      "image/png": "[encoded data removed]",
      "text/plain": [
       "<Figure size 432x288 with 1 Axes>"
      ]
     },
     "metadata": {
      "needs_background": "light"
     },
     "output_type": "display_data"
    }
   ],
   "source": [
    "# With exp envelope\n",
    "\n",
    "def p(x, mu, sigma):\n",
    "    return 2*np.exp(-(x-mu)**2/(2*sigma**2))/(np.sqrt(2*np.pi*sigma))\n",
    "\n",
    "# our proposal pdf\n",
    "def h(x):\n",
    "    return np.exp(-x)\n",
    "\n",
    "# generates our proposal using inverse sampling\n",
    "def CDFh(x):\n",
    "    return 1 - np.exp(-x)\n",
    "\n",
    "def invCDFh(x):\n",
    "    ### BEGIN SOLUTION\n",
    "    return -np.log(1 - x)\n",
    "    ### END SOLUTION\n",
    "\n",
    "N = 10000     # the total of samples we wish to generate\n",
    "accepted = 0  # the number of accepted samples\n",
    "samples = np.zeros(N)\n",
    "count = 0     # the total count of proposals\n",
    "\n",
    "# Choose our M to maximize accpetance rate\n",
    "M = 0\n",
    "### BEGIN SOLUTION\n",
    "# Choose in such a way that f/g < M for the smalles possible M.\n",
    "# f/g ~ exp(-x^2/2 + x), it is maximum when the argument of the exponential is\n",
    "# maximum, this happens at x = 1. M = f(1)/g(1)\n",
    "M = p(1, 0, 1)/h(1)\n",
    "### END SOLUTION\n",
    "\n",
    "# generation loop\n",
    "while (accepted < N):\n",
    "    ### BEGIN SOLUTION\n",
    "    # Sample from g using inverse sampling\n",
    "    u = np.random.uniform(0, 1)\n",
    "    xproposal = invCDFh(u)\n",
    "\n",
    "    # pick a uniform number on [0, 1)\n",
    "    y = np.random.uniform(0, 1)\n",
    "\n",
    "    # Do the accept/reject comparison\n",
    "    if y < p(xproposal, 0, 1)/(M*h(xproposal)):\n",
    "        # change sign with p=0.5\n",
    "        if np.random.uniform(0, 1) < 0.5:\n",
    "            xproposal *= -1\n",
    "        samples[accepted] = xproposal\n",
    "        accepted += 1\n",
    "    count += 1\n",
    "    ### END SOLUTION\n",
    "    \n",
    "print(\"Count\", count, \"Accepted\", accepted)\n",
    "\n",
    "plt.hist(samples, bins=50, label=u'Samples', density=True)\n",
    "xvals = np.linspace(-4, 4, 1000)\n",
    "plt.plot(xvals, p(xvals, 0, 1), 'r', label=u'p(x)')\n",
    "plt.plot(xvals, M*h(xvals), 'k', label=u'g(x)')\n",
    "plt.plot(xvals, 0.5*p(xvals, 0, 1), 'g', label=u'Normal')\n",
    "plt.ylim(0, 1)\n",
    "plt.legend();"
   ]
  },
  {
   "cell_type": "code",
   "execution_count": 310,
   "metadata": {},
   "outputs": [],
   "source": [
    "### BEGIN HIDDEN TESTS\n",
    "assert 0.74 < accepted/count < 0.76\n",
    "assert stats.kstest(sample, stats.norm.cdf)[1] > 0.05\n",
    "### END HIDDEN TESTS"
   ]
  }
 ],
 "metadata": {
  "kernelspec": {
   "display_name": "Python 3",
   "language": "python",
   "name": "python3"
  },
  "language_info": {
   "codemirror_mode": {
    "name": "ipython",
    "version": 3
   },
   "file_extension": ".py",
   "mimetype": "text/x-python",
   "name": "python",
   "nbconvert_exporter": "python",
   "pygments_lexer": "ipython3",
   "version": "3.8.3"
  }
 },
 "nbformat": 4,
 "nbformat_minor": 4
}

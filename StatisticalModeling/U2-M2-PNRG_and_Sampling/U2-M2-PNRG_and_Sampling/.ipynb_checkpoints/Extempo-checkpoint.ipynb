{
 "cells": [
  {
   "cell_type": "markdown",
   "metadata": {},
   "source": [
    "# Exam questions"
   ]
  },
  {
   "cell_type": "markdown",
   "metadata": {},
   "source": [
    "Sample from the Erlang distribution using inverse sampling. If X is Erlang distributed with parameters n and µ, then X can be expressed as a sum of n independent exponentials Yi , each with mean 1/µ.\n",
    "\n",
    "- Generate n uniform (0, 1) random variables\n",
    "- Set X = − ln(U1U2 · · · Un)/µ"
   ]
  },
  {
   "cell_type": "markdown",
   "metadata": {},
   "source": [
    "### Example\n",
    "\n",
    "The Beta(4,3) distribution has density\n",
    "$$\n",
    "f(x) = 60 x^3(1 - x)^2,\\quad 0 \\leq x \\leq 1.\n",
    "$$\n",
    "The maximal value of $f$ occurs at $x = 0.6$, where $f(0.6) = 2.0736$. Thus, if we define\n",
    "$$\n",
    "g(x) = 2.0736,\\quad 0 \\leq x \\leq 1,\n",
    "$$\n",
    "then $g$ majorizes $f$ . Algorithm:\n",
    "1. Generate Y and U from U(0, 1);\n",
    "2. If $U \\leq \\frac{60Y^3(1 - Y )^2}{2.0736}$, then set $X = Y$ ; else reject $Y$ and return to step 1."
   ]
  },
  {
   "cell_type": "code",
   "execution_count": null,
   "metadata": {},
   "outputs": [],
   "source": []
  }
 ],
 "metadata": {
  "kernelspec": {
   "display_name": "Python 3",
   "language": "python",
   "name": "python3"
  },
  "language_info": {
   "codemirror_mode": {
    "name": "ipython",
    "version": 3
   },
   "file_extension": ".py",
   "mimetype": "text/x-python",
   "name": "python",
   "nbconvert_exporter": "python",
   "pygments_lexer": "ipython3",
   "version": "3.8.3"
  }
 },
 "nbformat": 4,
 "nbformat_minor": 4
}
